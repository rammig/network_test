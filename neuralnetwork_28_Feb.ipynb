{
 "metadata": {
  "name": ""
 },
 "nbformat": 3,
 "nbformat_minor": 0,
 "worksheets": [
  {
   "cells": [
    {
     "cell_type": "code",
     "collapsed": false,
     "input": [
      "import numpy as np\n",
      "from scipy import optimize\n",
      "from __future__ import division"
     ],
     "language": "python",
     "metadata": {},
     "outputs": [],
     "prompt_number": 15
    },
    {
     "cell_type": "code",
     "collapsed": false,
     "input": [
      "class nn_simple(object):\n",
      "    \n",
      "    def __init__(self, reg_lambda=0, epsilon_init=0.12, hidden_size=25, maxiter=500):\n",
      "        self.reg_lambda= reg_lambda\n",
      "        self.epsilon_init = epsilon_init\n",
      "        self.hidden_size = hidden_size\n",
      "        self.activation_func = self.sigmoid #functions will be implemented later in class\n",
      "        self.activation_func_prime = self.sigmoid_prime\n",
      "        self.method = 'TNC'\n",
      "        self.maxiter = maxiter\n",
      "        \n",
      "    def sigmoid(self, z):\n",
      "        return 1 / (1 + np.exp(-z))\n",
      "    \n",
      "    def sigmoid_prime(self, z):#Gradient der Aktivierungsfunktion\n",
      "        sig = self.sigmoid(z)\n",
      "        return sig * (1 - sig)\n",
      "    \n",
      "    def sumsqr(self, a):\n",
      "        return np.sum(a ** 2)\n",
      "    \n",
      "    def rand_init(self, l_in, l_out):\n",
      "        return np.random.rand(l_out, l_in + 1) * 2 * self.epsilon_init - self.epsilon_init\n",
      "    \n",
      "    def pack_thetas(self, t1,t2):\n",
      "        return np.concatenate((t1.reshape(-1), t2.reshape(-1)))\n",
      "    \n",
      "    def unpack_thetas(self, thetas, input_layer_size, hidden_size, num_labels):#input hidden output sizes\n",
      "        t1_start = 0\n",
      "        t1_end = hidden_size* (input_layer_size + 1)\n",
      "        t1 = thetas[t1_start:t1_end].reshape((hidden_size, input_layer_size +1))\n",
      "        t2 = thetas[t1_end:].reshape((num_labels, hidden_size +1))\n",
      "        return t1,t2\n",
      "    \n",
      "    def _forward(self, X, t1,t2):\n",
      "        m = X.shape[0]\n",
      "        ones = None\n",
      "        if len(X.shape) == 1:\n",
      "            ones = np.array(1).reshape(1,)\n",
      "        else:\n",
      "            ones = np.ones(m).reshape(m,1)\n",
      "        \n",
      "        #Input Layer\n",
      "        a1 = np.hstack((ones,X))\n",
      "        \n",
      "        #Hidden Layer\n",
      "        z2 = np.dot(t1, a1.T)\n",
      "        a2 = self.activation_func(z2)\n",
      "        a2 = np.hstack((ones, a2.T))\n",
      "        \n",
      "        #Output Layer\n",
      "        z3 = np.dot(t2, a2.T)\n",
      "        a3 = self.activation_func(z3)\n",
      "        return a1, z2, a2, z3, a3\n",
      "    \n",
      "    def function(self, thetas, input_layer_size, hidden_size, num_labels, X, y, reg_lambda):\n",
      "        t1, t2 = self.unpack_thetas(thetas, input_layer_size, hidden_size, num_labels)\n",
      "        \n",
      "        m = X.shape[0]\n",
      "        Y = np.eye(num_labels)[y] # eye: 2d array with number of output as rows and 1 on diagonal\n",
      "        \n",
      "        _, _, _, _, h = self._forward(X, t1, t2) # _forward return 5 values, the last one is assigned to h\n",
      "        costPositive = -Y * np.log(h).T\n",
      "        costNegative = (1 - Y) * np.log(1 - h).T\n",
      "        \n",
      "        cost = costPositive - costNegative\n",
      "        J = np.sum(cost) / m\n",
      "        \n",
      "        if reg_lambda != 0:\n",
      "            t1f = t1[:, 1:]\n",
      "            t2f = t2[:, 1:]\n",
      "            reg = (self.reg_lambda / ( 2 * m)) * (self.sumsqr(t1f) + self.sumsqr(t2f))\n",
      "            \n",
      "            J = J + reg\n",
      "        \n",
      "        return J\n",
      "    \n",
      "    def function_prime(self, thetas, input_layer_size,hidden_size, num_labels, X,y,reg_lambda):\n",
      "        t1,t2 = self.unpack_thetas(thetas, input_layer_size,hidden_size, num_labels)\n",
      "        \n",
      "        m = X.shape[0]\n",
      "        t1f = t1[:,1:]\n",
      "        t2f = t2[:,1:]\n",
      "        Y = np.eye(num_labels)[y]\n",
      "        \n",
      "        Delta1, Delta2 = 0,0\n",
      "        \n",
      "        for i, row in enumerate(X):\n",
      "            a1,z2,a2,z3,a3 = self._forward(row, t1,t2)\n",
      "            \n",
      "            #Backpropagation\n",
      "            d3 = a3 - Y[i, :].T\n",
      "            d2 = np.dot(t2f.T,d3) * self.activation_func_prime(z2)\n",
      "            \n",
      "            Delta2 += np.dot(d3[np.newaxis].T, a2[np.newaxis])\n",
      "            Delta1 += np.dot(d2[np.newaxis].T, a1[np.newaxis])\n",
      "        \n",
      "        Theta1_grad = (1 / m) * Delta1\n",
      "        Theta2_grad = (1 / m) * Delta2\n",
      "        \n",
      "        if reg_lambda !=0:\n",
      "            Theta1_grad[:, 1:] = Theta1_grad[:, 1:] + (reg_lambda /m) * t1f\n",
      "            Theta2_grad[:, 1:] = Theta2_grad[:, 1:] + (reg_lambda /m) * t2f\n",
      "            \n",
      "        return self.pack_thetas(Theta1_grad,Theta2_grad)\n",
      "    \n",
      "    def fit(self, X, y):\n",
      "        num_features = X.shape[0]\n",
      "        input_layer_size = X.shape[1]\n",
      "        num_labels = len(set(y))\n",
      "        \n",
      "        theta1_0 = self.rand_init(input_layer_size, self.hidden_size)\n",
      "        theta2_0 = self.rand_init(self.hidden_size, num_labels)\n",
      "        thetas0 = self.pack_thetas(theta1_0,theta2_0)\n",
      "        \n",
      "        options = {'maxiter' : self.maxiter}\n",
      "        _res = optimize.minimize(self.function, thetas0, jac=self.function_prime, method=self.method, \n",
      "                                 args=(input_layer_size, self.hidden_size, num_labels, X, y, 0), options=options)\n",
      "        \n",
      "        self.t1, self.t2 = self.unpack_thetas(_res.x, input_layer_size, self.hidden_size, num_labels)\n",
      "        \n",
      "    def predict(self, X):\n",
      "        return self.predict_proba(X).argmax(0)\n",
      "    \n",
      "    def predict_proba(self, X):\n",
      "        _, _, _, _, h = self._forward(X, self.t1, self.t2)\n",
      "        return h"
     ],
     "language": "python",
     "metadata": {},
     "outputs": [],
     "prompt_number": 33
    },
    {
     "cell_type": "code",
     "collapsed": false,
     "input": [
      "import sklearn.datasets as datasets\n",
      "from sklearn import cross_validation"
     ],
     "language": "python",
     "metadata": {},
     "outputs": [],
     "prompt_number": 34
    },
    {
     "cell_type": "code",
     "collapsed": false,
     "input": [
      "iris = datasets.load_iris()"
     ],
     "language": "python",
     "metadata": {},
     "outputs": [],
     "prompt_number": 35
    },
    {
     "cell_type": "code",
     "collapsed": false,
     "input": [
      "X = iris.data\n",
      "y = iris.target"
     ],
     "language": "python",
     "metadata": {},
     "outputs": [],
     "prompt_number": 36
    },
    {
     "cell_type": "code",
     "collapsed": false,
     "input": [
      "X_train, X_test, y_train, y_test = cross_validation.train_test_split(X, y, test_size=0.4)"
     ],
     "language": "python",
     "metadata": {},
     "outputs": [],
     "prompt_number": 37
    },
    {
     "cell_type": "code",
     "collapsed": false,
     "input": [
      "nn = nn_simple()"
     ],
     "language": "python",
     "metadata": {},
     "outputs": [],
     "prompt_number": 38
    },
    {
     "cell_type": "code",
     "collapsed": false,
     "input": [
      "nn.fit(X_train, y_train)"
     ],
     "language": "python",
     "metadata": {},
     "outputs": [
      {
       "output_type": "stream",
       "stream": "stderr",
       "text": [
        "-c:64: RuntimeWarning: divide by zero encountered in log\n",
        "-c:64: RuntimeWarning: invalid value encountered in multiply\n"
       ]
      }
     ],
     "prompt_number": 39
    },
    {
     "cell_type": "code",
     "collapsed": false,
     "input": [
      "from sklearn.metrics import accuracy_score"
     ],
     "language": "python",
     "metadata": {},
     "outputs": [],
     "prompt_number": 40
    },
    {
     "cell_type": "code",
     "collapsed": false,
     "input": [
      "accuracy_score(y_test, nn.predict(X_test))"
     ],
     "language": "python",
     "metadata": {},
     "outputs": [
      {
       "metadata": {},
       "output_type": "pyout",
       "prompt_number": 41,
       "text": [
        "0.96666666666666667"
       ]
      }
     ],
     "prompt_number": 41
    },
    {
     "cell_type": "code",
     "collapsed": false,
     "input": [
      "X_train.shape[0]"
     ],
     "language": "python",
     "metadata": {},
     "outputs": [
      {
       "metadata": {},
       "output_type": "pyout",
       "prompt_number": 43,
       "text": [
        "90"
       ]
      }
     ],
     "prompt_number": 43
    },
    {
     "cell_type": "code",
     "collapsed": false,
     "input": [
      "X_train.shape[1]"
     ],
     "language": "python",
     "metadata": {},
     "outputs": [
      {
       "metadata": {},
       "output_type": "pyout",
       "prompt_number": 44,
       "text": [
        "4"
       ]
      }
     ],
     "prompt_number": 44
    },
    {
     "cell_type": "code",
     "collapsed": false,
     "input": [
      "X_train.shape"
     ],
     "language": "python",
     "metadata": {},
     "outputs": [
      {
       "metadata": {},
       "output_type": "pyout",
       "prompt_number": 46,
       "text": [
        "(90, 4)"
       ]
      }
     ],
     "prompt_number": 46
    },
    {
     "cell_type": "code",
     "collapsed": false,
     "input": [
      "y_train.shape"
     ],
     "language": "python",
     "metadata": {},
     "outputs": [
      {
       "metadata": {},
       "output_type": "pyout",
       "prompt_number": 47,
       "text": [
        "(90,)"
       ]
      }
     ],
     "prompt_number": 47
    },
    {
     "cell_type": "code",
     "collapsed": false,
     "input": [
      "y_train"
     ],
     "language": "python",
     "metadata": {},
     "outputs": [
      {
       "metadata": {},
       "output_type": "pyout",
       "prompt_number": 48,
       "text": [
        "array([1, 2, 2, 0, 1, 0, 2, 2, 2, 2, 1, 2, 2, 2, 0, 0, 0, 0, 2, 1, 1, 0, 0,\n",
        "       2, 2, 1, 2, 1, 0, 2, 2, 2, 1, 1, 1, 0, 0, 1, 2, 0, 0, 1, 2, 1, 1, 0,\n",
        "       0, 0, 1, 0, 2, 2, 1, 0, 2, 1, 0, 2, 1, 1, 0, 0, 2, 1, 1, 0, 1, 1, 1,\n",
        "       2, 0, 2, 2, 0, 2, 2, 2, 0, 1, 1, 0, 2, 1, 1, 2, 2, 0, 0, 2, 0])"
       ]
      }
     ],
     "prompt_number": 48
    },
    {
     "cell_type": "code",
     "collapsed": false,
     "input": [
      "a = X_train.reshape(-1)"
     ],
     "language": "python",
     "metadata": {},
     "outputs": [],
     "prompt_number": 49
    },
    {
     "cell_type": "code",
     "collapsed": false,
     "input": [
      "len(set(y_train))"
     ],
     "language": "python",
     "metadata": {},
     "outputs": [
      {
       "metadata": {},
       "output_type": "pyout",
       "prompt_number": 53,
       "text": [
        "3"
       ]
      }
     ],
     "prompt_number": 53
    },
    {
     "cell_type": "code",
     "collapsed": false,
     "input": [
      "X_train"
     ],
     "language": "python",
     "metadata": {},
     "outputs": [
      {
       "metadata": {},
       "output_type": "pyout",
       "prompt_number": 51,
       "text": [
        "array([[ 5.2,  2.7,  3.9,  1.4],\n",
        "       [ 5.8,  2.7,  5.1,  1.9],\n",
        "       [ 6.5,  3.2,  5.1,  2. ],\n",
        "       [ 5.1,  3.8,  1.5,  0.3],\n",
        "       [ 6.7,  3.1,  4.4,  1.4],\n",
        "       [ 4.8,  3.4,  1.9,  0.2],\n",
        "       [ 4.9,  2.5,  4.5,  1.7],\n",
        "       [ 7.7,  2.8,  6.7,  2. ],\n",
        "       [ 6.5,  3. ,  5.5,  1.8],\n",
        "       [ 6.9,  3.2,  5.7,  2.3],\n",
        "       [ 5. ,  2. ,  3.5,  1. ],\n",
        "       [ 6.9,  3.1,  5.1,  2.3],\n",
        "       [ 6.4,  2.8,  5.6,  2.1],\n",
        "       [ 6.5,  3. ,  5.8,  2.2],\n",
        "       [ 4.6,  3.4,  1.4,  0.3],\n",
        "       [ 4.7,  3.2,  1.6,  0.2],\n",
        "       [ 4.5,  2.3,  1.3,  0.3],\n",
        "       [ 5. ,  3.4,  1.6,  0.4],\n",
        "       [ 6.3,  3.4,  5.6,  2.4],\n",
        "       [ 5.6,  2.5,  3.9,  1.1],\n",
        "       [ 5.5,  2.5,  4. ,  1.3],\n",
        "       [ 4.8,  3.1,  1.6,  0.2],\n",
        "       [ 5.4,  3.4,  1.7,  0.2],\n",
        "       [ 6.2,  2.8,  4.8,  1.8],\n",
        "       [ 6.7,  3.3,  5.7,  2.1],\n",
        "       [ 5.6,  2.7,  4.2,  1.3],\n",
        "       [ 7.4,  2.8,  6.1,  1.9],\n",
        "       [ 5.8,  2.7,  4.1,  1. ],\n",
        "       [ 4.9,  3.1,  1.5,  0.1],\n",
        "       [ 6.4,  3.1,  5.5,  1.8],\n",
        "       [ 6.3,  2.8,  5.1,  1.5],\n",
        "       [ 7.1,  3. ,  5.9,  2.1],\n",
        "       [ 6.1,  2.8,  4. ,  1.3],\n",
        "       [ 6.3,  2.5,  4.9,  1.5],\n",
        "       [ 6.2,  2.9,  4.3,  1.3],\n",
        "       [ 5.1,  3.7,  1.5,  0.4],\n",
        "       [ 5.1,  3.5,  1.4,  0.3],\n",
        "       [ 6.9,  3.1,  4.9,  1.5],\n",
        "       [ 6.3,  2.5,  5. ,  1.9],\n",
        "       [ 5.1,  3.4,  1.5,  0.2],\n",
        "       [ 5.5,  4.2,  1.4,  0.2],\n",
        "       [ 5.1,  2.5,  3. ,  1.1],\n",
        "       [ 6.3,  3.3,  6. ,  2.5],\n",
        "       [ 6.3,  3.3,  4.7,  1.6],\n",
        "       [ 6.4,  2.9,  4.3,  1.3],\n",
        "       [ 5.2,  3.4,  1.4,  0.2],\n",
        "       [ 4.8,  3. ,  1.4,  0.1],\n",
        "       [ 5. ,  3.2,  1.2,  0.2],\n",
        "       [ 6. ,  2.7,  5.1,  1.6],\n",
        "       [ 5. ,  3. ,  1.6,  0.2],\n",
        "       [ 7.2,  3.2,  6. ,  1.8],\n",
        "       [ 6.7,  3.3,  5.7,  2.5],\n",
        "       [ 6.8,  2.8,  4.8,  1.4],\n",
        "       [ 5.4,  3.9,  1.3,  0.4],\n",
        "       [ 7.2,  3.6,  6.1,  2.5],\n",
        "       [ 5.7,  2.6,  3.5,  1. ],\n",
        "       [ 4.6,  3.1,  1.5,  0.2],\n",
        "       [ 7.6,  3. ,  6.6,  2.1],\n",
        "       [ 6. ,  2.9,  4.5,  1.5],\n",
        "       [ 6.1,  3. ,  4.6,  1.4],\n",
        "       [ 5.5,  3.5,  1.3,  0.2],\n",
        "       [ 4.4,  3. ,  1.3,  0.2],\n",
        "       [ 6.3,  2.9,  5.6,  1.8],\n",
        "       [ 5.5,  2.6,  4.4,  1.2],\n",
        "       [ 5.7,  2.8,  4.5,  1.3],\n",
        "       [ 5.3,  3.7,  1.5,  0.2],\n",
        "       [ 6.3,  2.3,  4.4,  1.3],\n",
        "       [ 5.8,  2.6,  4. ,  1.2],\n",
        "       [ 5.7,  2.9,  4.2,  1.3],\n",
        "       [ 6.5,  3. ,  5.2,  2. ],\n",
        "       [ 5.2,  3.5,  1.5,  0.2],\n",
        "       [ 6.2,  3.4,  5.4,  2.3],\n",
        "       [ 6.4,  2.7,  5.3,  1.9],\n",
        "       [ 5.1,  3.8,  1.9,  0.4],\n",
        "       [ 5.6,  2.8,  4.9,  2. ],\n",
        "       [ 5.8,  2.8,  5.1,  2.4],\n",
        "       [ 6.7,  3. ,  5.2,  2.3],\n",
        "       [ 4.8,  3.4,  1.6,  0.2],\n",
        "       [ 4.9,  2.4,  3.3,  1. ],\n",
        "       [ 5.5,  2.4,  3.7,  1. ],\n",
        "       [ 4.4,  3.2,  1.3,  0.2],\n",
        "       [ 6. ,  2.2,  5. ,  1.5],\n",
        "       [ 6.1,  2.9,  4.7,  1.4],\n",
        "       [ 5.8,  2.7,  3.9,  1.2],\n",
        "       [ 6.3,  2.7,  4.9,  1.8],\n",
        "       [ 7.2,  3. ,  5.8,  1.6],\n",
        "       [ 5.2,  4.1,  1.5,  0.1],\n",
        "       [ 4.9,  3.1,  1.5,  0.1],\n",
        "       [ 7.7,  3.8,  6.7,  2.2],\n",
        "       [ 5. ,  3.3,  1.4,  0.2]])"
       ]
      }
     ],
     "prompt_number": 51
    },
    {
     "cell_type": "code",
     "collapsed": false,
     "input": [
      "A = np.eye(3)[y_train]"
     ],
     "language": "python",
     "metadata": {},
     "outputs": [],
     "prompt_number": 54
    },
    {
     "cell_type": "code",
     "collapsed": false,
     "input": [
      "A"
     ],
     "language": "python",
     "metadata": {},
     "outputs": [
      {
       "metadata": {},
       "output_type": "pyout",
       "prompt_number": 55,
       "text": [
        "array([[ 0.,  1.,  0.],\n",
        "       [ 0.,  0.,  1.],\n",
        "       [ 0.,  0.,  1.],\n",
        "       [ 1.,  0.,  0.],\n",
        "       [ 0.,  1.,  0.],\n",
        "       [ 1.,  0.,  0.],\n",
        "       [ 0.,  0.,  1.],\n",
        "       [ 0.,  0.,  1.],\n",
        "       [ 0.,  0.,  1.],\n",
        "       [ 0.,  0.,  1.],\n",
        "       [ 0.,  1.,  0.],\n",
        "       [ 0.,  0.,  1.],\n",
        "       [ 0.,  0.,  1.],\n",
        "       [ 0.,  0.,  1.],\n",
        "       [ 1.,  0.,  0.],\n",
        "       [ 1.,  0.,  0.],\n",
        "       [ 1.,  0.,  0.],\n",
        "       [ 1.,  0.,  0.],\n",
        "       [ 0.,  0.,  1.],\n",
        "       [ 0.,  1.,  0.],\n",
        "       [ 0.,  1.,  0.],\n",
        "       [ 1.,  0.,  0.],\n",
        "       [ 1.,  0.,  0.],\n",
        "       [ 0.,  0.,  1.],\n",
        "       [ 0.,  0.,  1.],\n",
        "       [ 0.,  1.,  0.],\n",
        "       [ 0.,  0.,  1.],\n",
        "       [ 0.,  1.,  0.],\n",
        "       [ 1.,  0.,  0.],\n",
        "       [ 0.,  0.,  1.],\n",
        "       [ 0.,  0.,  1.],\n",
        "       [ 0.,  0.,  1.],\n",
        "       [ 0.,  1.,  0.],\n",
        "       [ 0.,  1.,  0.],\n",
        "       [ 0.,  1.,  0.],\n",
        "       [ 1.,  0.,  0.],\n",
        "       [ 1.,  0.,  0.],\n",
        "       [ 0.,  1.,  0.],\n",
        "       [ 0.,  0.,  1.],\n",
        "       [ 1.,  0.,  0.],\n",
        "       [ 1.,  0.,  0.],\n",
        "       [ 0.,  1.,  0.],\n",
        "       [ 0.,  0.,  1.],\n",
        "       [ 0.,  1.,  0.],\n",
        "       [ 0.,  1.,  0.],\n",
        "       [ 1.,  0.,  0.],\n",
        "       [ 1.,  0.,  0.],\n",
        "       [ 1.,  0.,  0.],\n",
        "       [ 0.,  1.,  0.],\n",
        "       [ 1.,  0.,  0.],\n",
        "       [ 0.,  0.,  1.],\n",
        "       [ 0.,  0.,  1.],\n",
        "       [ 0.,  1.,  0.],\n",
        "       [ 1.,  0.,  0.],\n",
        "       [ 0.,  0.,  1.],\n",
        "       [ 0.,  1.,  0.],\n",
        "       [ 1.,  0.,  0.],\n",
        "       [ 0.,  0.,  1.],\n",
        "       [ 0.,  1.,  0.],\n",
        "       [ 0.,  1.,  0.],\n",
        "       [ 1.,  0.,  0.],\n",
        "       [ 1.,  0.,  0.],\n",
        "       [ 0.,  0.,  1.],\n",
        "       [ 0.,  1.,  0.],\n",
        "       [ 0.,  1.,  0.],\n",
        "       [ 1.,  0.,  0.],\n",
        "       [ 0.,  1.,  0.],\n",
        "       [ 0.,  1.,  0.],\n",
        "       [ 0.,  1.,  0.],\n",
        "       [ 0.,  0.,  1.],\n",
        "       [ 1.,  0.,  0.],\n",
        "       [ 0.,  0.,  1.],\n",
        "       [ 0.,  0.,  1.],\n",
        "       [ 1.,  0.,  0.],\n",
        "       [ 0.,  0.,  1.],\n",
        "       [ 0.,  0.,  1.],\n",
        "       [ 0.,  0.,  1.],\n",
        "       [ 1.,  0.,  0.],\n",
        "       [ 0.,  1.,  0.],\n",
        "       [ 0.,  1.,  0.],\n",
        "       [ 1.,  0.,  0.],\n",
        "       [ 0.,  0.,  1.],\n",
        "       [ 0.,  1.,  0.],\n",
        "       [ 0.,  1.,  0.],\n",
        "       [ 0.,  0.,  1.],\n",
        "       [ 0.,  0.,  1.],\n",
        "       [ 1.,  0.,  0.],\n",
        "       [ 1.,  0.,  0.],\n",
        "       [ 0.,  0.,  1.],\n",
        "       [ 1.,  0.,  0.]])"
       ]
      }
     ],
     "prompt_number": 55
    },
    {
     "cell_type": "code",
     "collapsed": false,
     "input": [],
     "language": "python",
     "metadata": {},
     "outputs": []
    }
   ],
   "metadata": {}
  }
 ]
}